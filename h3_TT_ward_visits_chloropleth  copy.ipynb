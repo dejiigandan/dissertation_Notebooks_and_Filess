{
 "cells": [
  {
   "cell_type": "code",
   "execution_count": 1,
   "metadata": {},
   "outputs": [
    {
     "ename": "SyntaxError",
     "evalue": "invalid syntax (<ipython-input-1-102b7d9277ce>, line 1)",
     "output_type": "error",
     "traceback": [
      "\u001b[0;36m  File \u001b[0;32m\"<ipython-input-1-102b7d9277ce>\"\u001b[0;36m, line \u001b[0;32m1\u001b[0m\n\u001b[0;31m    delete this line\u001b[0m\n\u001b[0m              ^\u001b[0m\n\u001b[0;31mSyntaxError\u001b[0m\u001b[0;31m:\u001b[0m invalid syntax\n"
     ]
    }
   ],
   "source": [
    "delete this line\n",
    "i\n",
    "import pandas as pd\n",
    "import os \n",
    "import h3 as h3\n",
    "import matplotlib.pyplot as plt\n",
    "import plotly\n",
    "import folium\n",
    "import webbrowser\n",
    "from folium import Map\n",
    "\n",
    "from IPython.core.display import display, HTML\n",
    "import json\n",
    "from pandas.io.json import json_normalize\n",
    "import numpy as np\n",
    "\n",
    "import statistics\n",
    "\n",
    "from geojson.feature import *\n",
    "# from area import area\n",
    "\n",
    "import copy\n",
    "from folium import Map, Marker, GeoJson\n",
    "from folium.plugins import MarkerCluster\n",
    "import branca.colormap as cm\n",
    "from branca.colormap import linear\n",
    "\n",
    "import seaborn as sns\n",
    "import matplotlib.pyplot as plt\n",
    "from IPython.display import Image, display\n",
    "from IPython.utils.text import columnize\n",
    "import warnings\n",
    "warnings.filterwarnings('ignore')\n",
    "%matplotlib inline"
   ]
  },
  {
   "cell_type": "code",
   "execution_count": null,
   "metadata": {},
   "outputs": [],
   "source": [
    "visits_count = pd.read_csv('~/Downloads/tt_visitsByWard_2018.csv')\n",
    "# visits_count = pd.read_csv('~/Downloads/visits_every_ward.csv')\n",
    "wards_boundaries = pd.read_csv('~/Downloads/Wards__December_2017__Boundaries_in_the_UK.csv')"
   ]
  },
  {
   "cell_type": "code",
   "execution_count": null,
   "metadata": {},
   "outputs": [],
   "source": [
    "# s1 = pd.merge(visits_count, wards_boundaries, how='inner', on=['ward_code'])\n",
    "# # s1.dropna(inplace=True)   # Drop any rows with NA\n",
    "# s1.shape\n"
   ]
  },
  {
   "cell_type": "code",
   "execution_count": null,
   "metadata": {},
   "outputs": [],
   "source": [
    "# s1.head()"
   ]
  },
  {
   "cell_type": "code",
   "execution_count": null,
   "metadata": {},
   "outputs": [],
   "source": [
    "s1.to_csv(path_or_buf = ('~/Downloads/s1.csv'), index=False)  # export the dataframe to a csv file"
   ]
  },
  {
   "cell_type": "code",
   "execution_count": null,
   "metadata": {},
   "outputs": [],
   "source": [
    "df = pd.read_csv('~/Downloads/visits_every_ward.csv')\n",
    "ori = pd.read_csv('~/Downloads/visits_every_ward.csv')    \n",
    "# print(df.head())\n"
   ]
  },
  {
   "cell_type": "code",
   "execution_count": 2,
   "metadata": {},
   "outputs": [],
   "source": [
    "# all_wards = list(wards_boundaries['ward_code'])\n",
    "# # len(all_wards)\n",
    "\n",
    "# fb_wards = list(visits_count['ward_code'])\n",
    "# # len(fb_wards) #   ---> 7397\n",
    "\n",
    "# duplicate_s1 = s1.copy()\n",
    "# # duplicate_s1.head()\n",
    "\n",
    "# unknown_wards = []\n",
    "# for i in fb_wards:\n",
    "#     if i not in all_wards:\n",
    "#         unknown_wards.append(i)"
   ]
  },
  {
   "cell_type": "code",
   "execution_count": 3,
   "metadata": {},
   "outputs": [],
   "source": [
    "# len(unknown_wards)\n"
   ]
  },
  {
   "cell_type": "code",
   "execution_count": 4,
   "metadata": {},
   "outputs": [],
   "source": [
    "# s2 = pd.merge(wards_boundaries, duplicate_s1, how='outer', on=['ward_code'])\n",
    "# s2.head()\n",
    "# s2.to_csv('~/downloads/visits_every_ward.csv')"
   ]
  },
  {
   "cell_type": "code",
   "execution_count": 5,
   "metadata": {},
   "outputs": [],
   "source": [
    "def counts_by_hexagon(df, resolution):\n",
    "\n",
    "    '''Use h3.geo_to_h3 to index each data point into the spatial index of the specified resolution.\n",
    "      Use h3.h3_to_geo_boundary to obtain the geometries of these hexagons'''\n",
    "\n",
    "    df = df[[\"lat\",\"lng\"]]\n",
    "\n",
    "    df[\"hex_id\"] = df.apply(lambda row: h3.geo_to_h3(row[\"lat\"], row[\"lng\"], resolution), axis = 1)\n",
    "\n",
    "    df_aggreg = df\n",
    "    df_aggreg['n_of_visits'] = ori['n_of_visits']\n",
    "\n",
    "    df_aggreg.columns = [\"lat\", \"lng\", \"hex_id\", \"n_of_visits\"]\n",
    "\n",
    "    df_aggreg[\"geometry\"] =  df_aggreg.hex_id.apply(lambda x: \n",
    "                                                           {    \"type\" : \"Polygon\",\n",
    "                                                                 \"coordinates\": \n",
    "                                                                [h3.h3_to_geo_boundary(x,geo_json=True)]\n",
    "                                                            }\n",
    "                                                        )\n",
    "\n",
    "    return df_aggreg\n",
    "\n",
    "\n",
    "def hexagons_dataframe_to_geojson(df_hex, file_output = None):\n",
    "    \"\"\"\n",
    "    Produce the GeoJSON for a dataframe that has a geometry column in geojson \n",
    "    format already, along with the columns hex_id and value\n",
    "\n",
    "    Ex counts_by_hexagon(data)\n",
    "    \"\"\"    \n",
    "    list_features = []\n",
    "\n",
    "    for i,row in df_hex.iterrows():\n",
    "        feature = Feature(geometry = row[\"geometry\"] , id=row[\"hex_id\"], properties = {\"n_of_visits\" : row[\"n_of_visits\"]})\n",
    "        list_features.append(feature)\n",
    "\n",
    "    feat_collection = FeatureCollection(list_features)\n",
    "\n",
    "    geojson_result = json.dumps(feat_collection)\n",
    "\n",
    "    #optionally write to file\n",
    "    if file_output is not None:\n",
    "        with open(file_output,\"w\") as f:\n",
    "            json.dump(feat_collection,f)\n",
    "\n",
    "    return geojson_result\n",
    "\n",
    "def choropleth_map(df_aggreg, border_color = 'black', fill_opacity = 0.7, initial_map = None, with_legend = False,\n",
    "               kind = \"linear\"):\n",
    "\n",
    "    \"\"\"\n",
    "    Creates choropleth maps given the aggregated data.\n",
    "    \"\"\"    \n",
    "    #colormap\n",
    "    min_value = df_aggreg[\"n_of_visits\"].min()\n",
    "    max_value = df_aggreg[\"n_of_visits\"].max()\n",
    "    m = round ((min_value + max_value ) / 2 , 0)\n",
    "\n",
    "    #take resolution from the first row\n",
    "    res = h3.h3_get_resolution(df_aggreg.loc[0,'hex_id'])\n",
    "\n",
    "    if initial_map is None:\n",
    "        initial_map = Map(location= [51.53, 0.11], zoom_start=7, tiles=\"cartodbpositron\", \n",
    "                attr= '© <a href=\"http://www.openstreetmap.org/copyright\">OpenStreetMap</a> contributors © <a href=\"http://cartodb.com/attributions#basemaps\">CartoDB</a>' \n",
    "            )\n",
    "\n",
    "\n",
    "    #the colormap \n",
    "    #color names accepted https://github.com/python-visualization/branca/blob/master/branca/_cnames.json\n",
    "    if kind == \"linear\":\n",
    "        custom_cm = cm.LinearColormap(colors=['green','lightyellow','yellow','red'], index=[0,50,150,2000],vmin=min_value, vmax=max_value)\n",
    "    elif kind == \"outlier\":\n",
    "        #for outliers, values would be -11,0,1\n",
    "        custom_cm = cm.LinearColormap(['blue','white','red'], vmin=min_value, vmax=max_value)\n",
    "    elif kind == \"filled_nulls\":\n",
    "        custom_cm = cm.LinearColormap(['sienna','green','yellow','red'], \n",
    "                                      index=[0,min_value,m,max_value],vmin=min_value,vmax=max_value)\n",
    "\n",
    "\n",
    "    #create geojson data from dataframe\n",
    "    geojson_data = hexagons_dataframe_to_geojson(df_hex = df_aggreg)\n",
    "\n",
    "    #plot on map\n",
    "    name_layer = \"Choropleth \" + str(res)\n",
    "    if kind != \"linear\":\n",
    "        name_layer = name_layer + kind\n",
    "\n",
    "    GeoJson(\n",
    "        geojson_data,\n",
    "        style_function=lambda feature: {\n",
    "            'fillColor': custom_cm(feature['properties']['n_of_visits']),\n",
    "            'color': border_color,\n",
    "            'weight': 1,\n",
    "            'fillOpacity': fill_opacity \n",
    "        }, \n",
    "        name = name_layer\n",
    "    ).add_to(initial_map)\n",
    "    #add legend (not recommended if multiple layers)\n",
    "    if with_legend == True:\n",
    "        custom_cm.add_to(initial_map)\n",
    "\n",
    "\n",
    "\n",
    "    return initial_map\n",
    "\n",
    "def plot_scatter(df, metric_col, x='lng', y='lat', marker='.', alpha=1, figsize=(16,12), colormap='viridis'):\n",
    "    \"\"\"\n",
    "    Scatter plot function for h3 indexed objects\n",
    "    \"\"\"    \n",
    "    df.plot.scatter(x=x, y=y, c=metric_col, title=metric_col\n",
    "                    , edgecolors='none', colormap=colormap, marker=marker, alpha=alpha, figsize=figsize);\n",
    "    plt.xticks([], []); plt.yticks([], [])\n"
   ]
  },
  {
   "cell_type": "code",
   "execution_count": 6,
   "metadata": {},
   "outputs": [
    {
     "ename": "NameError",
     "evalue": "name 'df' is not defined",
     "output_type": "error",
     "traceback": [
      "\u001b[0;31m---------------------------------------------------------------------------\u001b[0m",
      "\u001b[0;31mNameError\u001b[0m                                 Traceback (most recent call last)",
      "\u001b[0;32m<ipython-input-6-895fbe70f32c>\u001b[0m in \u001b[0;36m<module>\u001b[0;34m\u001b[0m\n\u001b[1;32m      1\u001b[0m \u001b[0;31m# Counts how many points are within the hex\u001b[0m\u001b[0;34m\u001b[0m\u001b[0;34m\u001b[0m\u001b[0;34m\u001b[0m\u001b[0m\n\u001b[1;32m      2\u001b[0m \u001b[0mmyres\u001b[0m \u001b[0;34m=\u001b[0m \u001b[0;36m6\u001b[0m \u001b[0;31m# use 6\u001b[0m\u001b[0;34m\u001b[0m\u001b[0;34m\u001b[0m\u001b[0m\n\u001b[0;32m----> 3\u001b[0;31m \u001b[0mdf_aggreg\u001b[0m \u001b[0;34m=\u001b[0m \u001b[0mcounts_by_hexagon\u001b[0m\u001b[0;34m(\u001b[0m\u001b[0mdf\u001b[0m \u001b[0;34m=\u001b[0m \u001b[0mdf\u001b[0m\u001b[0;34m,\u001b[0m \u001b[0mresolution\u001b[0m \u001b[0;34m=\u001b[0m \u001b[0mmyres\u001b[0m\u001b[0;34m)\u001b[0m      \u001b[0;31m#Use 4 to tile the whole of uk in an aesthetically pleasing way\u001b[0m\u001b[0;34m\u001b[0m\u001b[0;34m\u001b[0m\u001b[0m\n\u001b[0m\u001b[1;32m      4\u001b[0m \u001b[0mdf_aggreg\u001b[0m\u001b[0;34m.\u001b[0m\u001b[0msort_values\u001b[0m\u001b[0;34m(\u001b[0m\u001b[0mby\u001b[0m \u001b[0;34m=\u001b[0m \u001b[0;34m\"n_of_visits\"\u001b[0m\u001b[0;34m,\u001b[0m \u001b[0mascending\u001b[0m \u001b[0;34m=\u001b[0m \u001b[0;32mFalse\u001b[0m\u001b[0;34m,\u001b[0m \u001b[0minplace\u001b[0m \u001b[0;34m=\u001b[0m \u001b[0;32mTrue\u001b[0m\u001b[0;34m)\u001b[0m\u001b[0;34m\u001b[0m\u001b[0;34m\u001b[0m\u001b[0m\n\u001b[1;32m      5\u001b[0m \u001b[0;34m\u001b[0m\u001b[0m\n",
      "\u001b[0;31mNameError\u001b[0m: name 'df' is not defined"
     ]
    }
   ],
   "source": [
    "# Counts how many points are within the hex\n",
    "myres = 6 # use 6\n",
    "df_aggreg = counts_by_hexagon(df = df, resolution = myres)      #Use 4 to tile the whole of uk in an aesthetically pleasing way\n",
    "df_aggreg.sort_values(by = \"n_of_visits\", ascending = False, inplace = True)\n",
    "\n",
    "# Creates a map using Folium\n",
    "hexmap = choropleth_map(df_aggreg = df_aggreg, with_legend = True)\n",
    "hexmap.save('downloads')\n",
    "from folium import plugins\n",
    "# add full screen button to map\n",
    "plugins.Fullscreen(position='topright').add_to(hexmap)\n",
    "draw = plugins.Draw(export=True)\n",
    "hexmap\n",
    "\n"
   ]
  },
  {
   "cell_type": "code",
   "execution_count": null,
   "metadata": {},
   "outputs": [],
   "source": [
    "df_aggreg"
   ]
  },
  {
   "cell_type": "code",
   "execution_count": null,
   "metadata": {},
   "outputs": [],
   "source": [
    "unique_hex = set(df_aggreg[\"hex_id\"])"
   ]
  },
  {
   "cell_type": "code",
   "execution_count": null,
   "metadata": {},
   "outputs": [],
   "source": [
    "len(unique_hex)"
   ]
  },
  {
   "cell_type": "code",
   "execution_count": null,
   "metadata": {},
   "outputs": [],
   "source": []
  }
 ],
 "metadata": {
  "kernelspec": {
   "display_name": "Python [conda env:myenv]",
   "language": "python",
   "name": "conda-env-myenv-py"
  },
  "language_info": {
   "codemirror_mode": {
    "name": "ipython",
    "version": 3
   },
   "file_extension": ".py",
   "mimetype": "text/x-python",
   "name": "python",
   "nbconvert_exporter": "python",
   "pygments_lexer": "ipython3",
   "version": "3.7.8"
  }
 },
 "nbformat": 4,
 "nbformat_minor": 4
}
