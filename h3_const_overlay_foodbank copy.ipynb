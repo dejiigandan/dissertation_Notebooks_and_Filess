{
 "cells": [
  {
   "cell_type": "code",
   "execution_count": 1,
   "metadata": {},
   "outputs": [
    {
     "ename": "SyntaxError",
     "evalue": "invalid syntax (<ipython-input-1-dc6aeedd7bff>, line 1)",
     "output_type": "error",
     "traceback": [
      "\u001b[0;36m  File \u001b[0;32m\"<ipython-input-1-dc6aeedd7bff>\"\u001b[0;36m, line \u001b[0;32m1\u001b[0m\n\u001b[0;31m    delete this line\u001b[0m\n\u001b[0m              ^\u001b[0m\n\u001b[0;31mSyntaxError\u001b[0m\u001b[0;31m:\u001b[0m invalid syntax\n"
     ]
    }
   ],
   "source": [
    "delete this line\n",
    "i\n",
    "import pandas as pd\n",
    "import os \n",
    "import h3 as h3\n",
    "import matplotlib.pyplot as plt\n",
    "import plotly\n",
    "import folium\n",
    "import webbrowser\n",
    "from folium import Map"
   ]
  },
  {
   "cell_type": "code",
   "execution_count": null,
   "metadata": {},
   "outputs": [],
   "source": [
    "from IPython.core.display import display, HTML\n",
    "import json\n",
    "from pandas.io.json import json_normalize\n",
    "import numpy as np\n",
    "\n",
    "import statistics\n",
    "\n",
    "from geojson.feature import *\n",
    "# from area import area\n",
    "\n",
    "import copy\n",
    "from folium import Map, Marker, GeoJson\n",
    "from folium.plugins import MarkerCluster\n",
    "import branca.colormap as cm\n",
    "from branca.colormap import linear\n",
    "\n",
    "import seaborn as sns\n",
    "import matplotlib.pyplot as plt\n",
    "from IPython.display import Image, display\n",
    "from IPython.utils.text import columnize\n",
    "import warnings\n",
    "warnings.filterwarnings('ignore')\n",
    "%matplotlib inline"
   ]
  },
  {
   "cell_type": "code",
   "execution_count": null,
   "metadata": {},
   "outputs": [],
   "source": [
    "# parl_const = pd.read_csv('~/Downloads/Book3.csv')    # parliamentary constituencies\n",
    "# df = pd.read_csv(\"~/Downloads/9999_pc_with_latlongs.csv\")   # Food bank locations\n",
    "df = pd.read_csv('~/Downloads/Book3_copy3.csv')    # parliamentary constituencies\n",
    "ori = pd.read_csv('~/Downloads/Book3_copy3.csv')    # parliamentary constituencies\n",
    "print(df.head())"
   ]
  },
  {
   "cell_type": "code",
   "execution_count": null,
   "metadata": {},
   "outputs": [],
   "source": [
    "# Simplify column names\n",
    "# parl_const.columns = ['lat','lng']\n",
    "# test = parl_const.sample(frac=0.05, replace=False, random_state=1)\n",
    "# test.plot(x='lng',y='lat',style='.',alpha=0.2,figsize=(12,12));\n",
    "# plt.title('UK constituencies');"
   ]
  },
  {
   "cell_type": "code",
   "execution_count": 2,
   "metadata": {},
   "outputs": [],
   "source": [
    "\n",
    "\n",
    "def counts_by_hexagon(df, resolution):\n",
    "\n",
    "    '''Use h3.geo_to_h3 to index each data point into the spatial index of the specified resolution.\n",
    "      Use h3.h3_to_geo_boundary to obtain the geometries of these hexagons'''\n",
    "\n",
    "    df = df[[\"lat\",\"lng\"]]\n",
    "\n",
    "    df[\"hex_id\"] = df.apply(lambda row: h3.geo_to_h3(row[\"lat\"], row[\"lng\"], resolution), axis = 1)\n",
    "\n",
    "    df_aggreg = df\n",
    "    df_aggreg['no_of_foodbanks'] = ori['no_of_foodbanks']\n",
    "    df_aggreg['constituency'] = ori['constituency']\n",
    "\n",
    "    df_aggreg.columns = [\"lat\", \"lng\", \"hex_id\", \"no_of_foodbanks\", \"constituency\"]\n",
    "\n",
    "    df_aggreg[\"geometry\"] =  df_aggreg.hex_id.apply(lambda x: \n",
    "                                                           {    \"type\" : \"Polygon\",\n",
    "                                                                 \"coordinates\": \n",
    "                                                                [h3.h3_to_geo_boundary(x,geo_json=True)]\n",
    "                                                            }\n",
    "                                                        )\n",
    "\n",
    "    return df_aggreg\n",
    "\n",
    "\n",
    "def hexagons_dataframe_to_geojson(df_hex, file_output = None):\n",
    "    \"\"\"\n",
    "    Produce the GeoJSON for a dataframe that has a geometry column in geojson \n",
    "    format already, along with the columns hex_id and value\n",
    "\n",
    "    Ex counts_by_hexagon(data)\n",
    "    \"\"\"    \n",
    "    list_features = []\n",
    "\n",
    "    for i,row in df_hex.iterrows():\n",
    "        feature = Feature(geometry = row[\"geometry\"] , id=row[\"hex_id\"], properties = {\"no_of_foodbanks\" : row[\"no_of_foodbanks\"]})\n",
    "        list_features.append(feature)\n",
    "\n",
    "    feat_collection = FeatureCollection(list_features)\n",
    "\n",
    "    geojson_result = json.dumps(feat_collection)\n",
    "\n",
    "    #optionally write to file\n",
    "    if file_output is not None:\n",
    "        with open(file_output,\"w\") as f:\n",
    "            json.dump(feat_collection,f)\n",
    "\n",
    "    return geojson_result\n",
    "\n",
    "def choropleth_map(df_aggreg, border_color = 'black', fill_opacity = 0.7, initial_map = None, with_legend = False,\n",
    "               kind = \"linear\"):\n",
    "\n",
    "    \"\"\"\n",
    "    Creates choropleth maps given the aggregated data.\n",
    "    \"\"\"    \n",
    "    #colormap\n",
    "    min_value = df_aggreg[\"no_of_foodbanks\"].min()\n",
    "    max_value = df_aggreg[\"no_of_foodbanks\"].max()\n",
    "    m = round ((min_value + max_value ) / 2 , 0)\n",
    "\n",
    "    #take resolution from the first row\n",
    "    res = h3.h3_get_resolution(df_aggreg.loc[0,'hex_id'])\n",
    "\n",
    "    if initial_map is None:\n",
    "        initial_map = Map(location= [51.53, 0.11], zoom_start=7, tiles=\"cartodbpositron\", \n",
    "                attr= '© <a href=\"http://www.openstreetmap.org/copyright\">OpenStreetMap</a> contributors © <a href=\"http://cartodb.com/attributions#basemaps\">CartoDB</a>' \n",
    "            )\n",
    "\n",
    "\n",
    "    #the colormap \n",
    "    #color names accepted https://github.com/python-visualization/branca/blob/master/branca/_cnames.json\n",
    "    if kind == \"linear\":\n",
    "        custom_cm = cm.LinearColormap(['green','yellow','red'], vmin=min_value, vmax=max_value)\n",
    "    elif kind == \"outlier\":\n",
    "        #for outliers, values would be -11,0,1\n",
    "        custom_cm = cm.LinearColormap(['blue','white','red'], vmin=min_value, vmax=max_value)\n",
    "    elif kind == \"filled_nulls\":\n",
    "        custom_cm = cm.LinearColormap(['sienna','green','yellow','red'], \n",
    "                                      index=[0,min_value,m,max_value],vmin=min_value,vmax=max_value)\n",
    "\n",
    "\n",
    "    #create geojson data from dataframe\n",
    "    geojson_data = hexagons_dataframe_to_geojson(df_hex = df_aggreg)\n",
    "\n",
    "    #plot on map\n",
    "    name_layer = \"Choropleth \" + str(res)\n",
    "    if kind != \"linear\":\n",
    "        name_layer = name_layer + kind\n",
    "\n",
    "    GeoJson(\n",
    "        geojson_data,\n",
    "        style_function=lambda feature: {\n",
    "            'fillColor': custom_cm(feature['properties']['no_of_foodbanks']),\n",
    "            'color': border_color,\n",
    "            'weight': 1,\n",
    "            'fillOpacity': fill_opacity \n",
    "        }, \n",
    "        name = name_layer\n",
    "    ).add_to(initial_map)\n",
    "    #add legend (not recommended if multiple layers)\n",
    "    if with_legend == True:\n",
    "        custom_cm.add_to(initial_map)\n",
    "\n",
    "\n",
    "\n",
    "    return initial_map\n",
    "\n",
    "def plot_scatter(df, metric_col, x='lng', y='lat', marker='.', alpha=1, figsize=(16,12), colormap='viridis'):\n",
    "    \"\"\"\n",
    "    Scatter plot function for h3 indexed objects\n",
    "    \"\"\"    \n",
    "    df.plot.scatter(x=x, y=y, c=metric_col, title=metric_col\n",
    "                    , edgecolors='none', colormap=colormap, marker=marker, alpha=alpha, figsize=figsize);\n",
    "    plt.xticks([], []); plt.yticks([], [])\n"
   ]
  },
  {
   "cell_type": "code",
   "execution_count": 3,
   "metadata": {},
   "outputs": [
    {
     "ename": "NameError",
     "evalue": "name 'df' is not defined",
     "output_type": "error",
     "traceback": [
      "\u001b[0;31m---------------------------------------------------------------------------\u001b[0m",
      "\u001b[0;31mNameError\u001b[0m                                 Traceback (most recent call last)",
      "\u001b[0;32m<ipython-input-3-73d41f25e518>\u001b[0m in \u001b[0;36m<module>\u001b[0;34m\u001b[0m\n\u001b[1;32m      1\u001b[0m \u001b[0;31m# Counts how many points are within the hex\u001b[0m\u001b[0;34m\u001b[0m\u001b[0;34m\u001b[0m\u001b[0;34m\u001b[0m\u001b[0m\n\u001b[1;32m      2\u001b[0m \u001b[0mmyres\u001b[0m \u001b[0;34m=\u001b[0m \u001b[0;36m6\u001b[0m\u001b[0;34m\u001b[0m\u001b[0;34m\u001b[0m\u001b[0m\n\u001b[0;32m----> 3\u001b[0;31m \u001b[0mdf_aggreg\u001b[0m \u001b[0;34m=\u001b[0m \u001b[0mcounts_by_hexagon\u001b[0m\u001b[0;34m(\u001b[0m\u001b[0mdf\u001b[0m \u001b[0;34m=\u001b[0m \u001b[0mdf\u001b[0m\u001b[0;34m,\u001b[0m \u001b[0mresolution\u001b[0m \u001b[0;34m=\u001b[0m \u001b[0mmyres\u001b[0m\u001b[0;34m)\u001b[0m      \u001b[0;31m#Use 4 to tile the whole of uk in an aesthetically pleasing way\u001b[0m\u001b[0;34m\u001b[0m\u001b[0;34m\u001b[0m\u001b[0m\n\u001b[0m\u001b[1;32m      4\u001b[0m \u001b[0mdf_aggreg\u001b[0m\u001b[0;34m.\u001b[0m\u001b[0msort_values\u001b[0m\u001b[0;34m(\u001b[0m\u001b[0mby\u001b[0m \u001b[0;34m=\u001b[0m \u001b[0;34m\"no_of_foodbanks\"\u001b[0m\u001b[0;34m,\u001b[0m \u001b[0mascending\u001b[0m \u001b[0;34m=\u001b[0m \u001b[0;32mFalse\u001b[0m\u001b[0;34m,\u001b[0m \u001b[0minplace\u001b[0m \u001b[0;34m=\u001b[0m \u001b[0;32mTrue\u001b[0m\u001b[0;34m)\u001b[0m\u001b[0;34m\u001b[0m\u001b[0;34m\u001b[0m\u001b[0m\n\u001b[1;32m      5\u001b[0m \u001b[0;34m\u001b[0m\u001b[0m\n",
      "\u001b[0;31mNameError\u001b[0m: name 'df' is not defined"
     ]
    }
   ],
   "source": [
    "# Counts how many points are within the hex\n",
    "myres = 6\n",
    "df_aggreg = counts_by_hexagon(df = df, resolution = myres)      #Use 4 to tile the whole of uk in an aesthetically pleasing way\n",
    "df_aggreg.sort_values(by = \"no_of_foodbanks\", ascending = False, inplace = True)\n",
    "\n",
    "# Creates a map using Folium\n",
    "hexmap = choropleth_map(df_aggreg = df_aggreg, with_legend = True)\n",
    "# hexmap.save('downloads')\n",
    "from folium import plugins\n",
    "plugins.Fullscreen(position='topright').add_to(hexmap)\n",
    "draw = plugins.Draw(export=True)\n",
    "hexmap\n"
   ]
  },
  {
   "cell_type": "code",
   "execution_count": null,
   "metadata": {},
   "outputs": [],
   "source": [
    "df_aggreg"
   ]
  },
  {
   "cell_type": "code",
   "execution_count": null,
   "metadata": {},
   "outputs": [],
   "source": [
    "# h3.h3_to_geo('85194ad3fffffff')"
   ]
  },
  {
   "cell_type": "code",
   "execution_count": null,
   "metadata": {},
   "outputs": [],
   "source": [
    "def show_map(themap, file_name):\n",
    "    themap.save(file_name)\n",
    "    wb = webbrowser.open('file://' + os.path.realpath(file_name), new=2)     #opens in new tab. using a new of 1 opens in a new window"
   ]
  },
  {
   "cell_type": "code",
   "execution_count": null,
   "metadata": {},
   "outputs": [],
   "source": [
    "# show_map(hexmap, \"h3_level:_{}_.html\".format(myres))"
   ]
  },
  {
   "cell_type": "code",
   "execution_count": null,
   "metadata": {},
   "outputs": [],
   "source": [
    "column2_as_series = set(df_aggreg['hex_id'])\n",
    "column2_as_series"
   ]
  },
  {
   "cell_type": "code",
   "execution_count": null,
   "metadata": {},
   "outputs": [],
   "source": [
    "len(column2_as_series)"
   ]
  },
  {
   "cell_type": "code",
   "execution_count": null,
   "metadata": {},
   "outputs": [],
   "source": [
    "# Work out mean number of foodbanks in each hexagon\n",
    "\n",
    "df_aggreg[\"no_of_foodbanks\"].mean()"
   ]
  },
  {
   "cell_type": "code",
   "execution_count": null,
   "metadata": {},
   "outputs": [],
   "source": [
    "# Calculate the standard deviation for the number of foodbanks\n",
    "\n",
    "df_aggreg[\"no_of_foodbanks\"].std()"
   ]
  },
  {
   "cell_type": "code",
   "execution_count": null,
   "metadata": {},
   "outputs": [],
   "source": []
  }
 ],
 "metadata": {
  "kernelspec": {
   "display_name": "Python [conda env:myenv]",
   "language": "python",
   "name": "conda-env-myenv-py"
  },
  "language_info": {
   "codemirror_mode": {
    "name": "ipython",
    "version": 3
   },
   "file_extension": ".py",
   "mimetype": "text/x-python",
   "name": "python",
   "nbconvert_exporter": "python",
   "pygments_lexer": "ipython3",
   "version": "3.7.8"
  }
 },
 "nbformat": 4,
 "nbformat_minor": 4
}
