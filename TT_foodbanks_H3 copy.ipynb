{
 "cells": [
  {
   "cell_type": "code",
   "execution_count": 1,
   "metadata": {},
   "outputs": [],
   "source": [
    "# import sys\n",
    "# !conda install --yes --prefix {sys.prefix} scikit-learn"
   ]
  },
  {
   "cell_type": "code",
   "execution_count": 2,
   "metadata": {},
   "outputs": [],
   "source": [
    "import numpy as np\n",
    "import pandas as pd\n",
    "import folium\n",
    "import webbrowser\n",
    "import os\n",
    "import math\n",
    "\n",
    "from h3 import h3\n",
    "from folium import Map"
   ]
  },
  {
   "cell_type": "code",
   "execution_count": 3,
   "metadata": {},
   "outputs": [],
   "source": [
    "def load_data():\n",
    "    foodbanks = pd.read_csv(\"~/Downloads/TT_Food_Bank_Locations_copy.csv\")\n",
    "    return foodbanks"
   ]
  },
  {
   "cell_type": "code",
   "execution_count": 4,
   "metadata": {},
   "outputs": [],
   "source": [
    "def create_map(clusters):\n",
    "    # Create the map object\n",
    "    map = Map(tiles=\"cartodbpositron\")\n",
    "    \n",
    "#     map = Map(tiles=\"cartodbdark_matter\")              #alternative map type\n",
    "    # map = Map(tiles=\"openstreetmap\")                   #alternative map type\n",
    "\n",
    "    # Convert the clusters dictionary items to polygons and add them to the map\n",
    "    for cluster in clusters.values():\n",
    "        points = cluster['geom']\n",
    "        # points = [p[::-1] for p in points]\n",
    "        if cluster['count'] == 1:\n",
    "            tooltip = \"{0} food bank\".format(cluster['count'])     # when hover an area, displays number of food banks\n",
    "        else:\n",
    "            tooltip = \"{0} food banks\".format(cluster['count'])     # when hover an area, displays number of food banks\n",
    "\n",
    "        polygon = folium.vector_layers.Polygon(locations=points, tooltip=tooltip,\n",
    "                                               fill=True, \n",
    "                                               color='#ff0000', \n",
    "                                               fill_color='#ff0000', \n",
    "                                               fill_opacity=0.4, weight=3, opacity=0.4)\n",
    "        polygon.add_to(map)\n",
    "\n",
    "    # Determine the map bounding box\n",
    "    max_lat = df.lat.max()\n",
    "    min_lat = df.lat.min()\n",
    "    max_lon = df.lng.max()\n",
    "    min_lon = df.lng.min()\n",
    "    \n",
    "    # Fit the map to the bounds\n",
    "    map.fit_bounds([[min_lat, min_lon], [max_lat, max_lon]])\n",
    "    \n",
    "    return map"
   ]
  },
  {
   "cell_type": "code",
   "execution_count": 5,
   "metadata": {},
   "outputs": [],
   "source": [
    "def show_map(map, file_name):\n",
    "    map.save(file_name)\n",
    "    wb = webbrowser.open('file://' + os.path.realpath(file_name), new=2)     #opens in new tab. using a new of 1 opens in a new window"
   ]
  },
  {
   "cell_type": "code",
   "execution_count": 6,
   "metadata": {},
   "outputs": [],
   "source": [
    "# load_data function object from above is assigned to f_bank\n",
    "f_bank = load_data()"
   ]
  },
  {
   "cell_type": "code",
   "execution_count": 7,
   "metadata": {},
   "outputs": [],
   "source": [
    "f_bank.dropna()\n",
    "\n",
    "# ensure only valid values for lat and long are used\n",
    "f_bank = f_bank.loc[f_bank.lat <=  90.0]\n",
    "f_bank = f_bank.loc[f_bank.lat >= -90.0]\n",
    "\n",
    "f_bank = f_bank.loc[f_bank.lng <=  180.0]\n",
    "f_bank = f_bank.loc[f_bank.lng >= -180.0]"
   ]
  },
  {
   "cell_type": "code",
   "execution_count": 8,
   "metadata": {},
   "outputs": [],
   "source": [
    "h3_level = 6           # best values to use: 4,5,6,7\n"
   ]
  },
  {
   "cell_type": "code",
   "execution_count": 9,
   "metadata": {},
   "outputs": [],
   "source": [
    "# iterates through each number in the individual conlumns of the dataset and converts them to an h3 index\n",
    "def lat_lng_to_h3(row):\n",
    "    return h3.geo_to_h3(row['lat'], row['lng'], h3_level)"
   ]
  },
  {
   "cell_type": "code",
   "execution_count": 10,
   "metadata": {},
   "outputs": [],
   "source": [
    "# adds new column with h3 index to dataset\n",
    "f_bank['h3_index_rep'] = f_bank.apply(lat_lng_to_h3, axis=1)"
   ]
  },
  {
   "cell_type": "code",
   "execution_count": 11,
   "metadata": {},
   "outputs": [],
   "source": [
    "# copy data and save as df to avoid corrupting dataset\n",
    "df = f_bank.copy()"
   ]
  },
  {
   "cell_type": "code",
   "execution_count": 12,
   "metadata": {
    "scrolled": true
   },
   "outputs": [
    {
     "data": {
      "text/html": [
       "<div>\n",
       "<style scoped>\n",
       "    .dataframe tbody tr th:only-of-type {\n",
       "        vertical-align: middle;\n",
       "    }\n",
       "\n",
       "    .dataframe tbody tr th {\n",
       "        vertical-align: top;\n",
       "    }\n",
       "\n",
       "    .dataframe thead th {\n",
       "        text-align: right;\n",
       "    }\n",
       "</style>\n",
       "<table border=\"1\" class=\"dataframe\">\n",
       "  <thead>\n",
       "    <tr style=\"text-align: right;\">\n",
       "      <th></th>\n",
       "      <th>Foodbank Name</th>\n",
       "      <th>Distribution Centre Name</th>\n",
       "      <th>Town</th>\n",
       "      <th>County</th>\n",
       "      <th>Postcode</th>\n",
       "      <th>lat</th>\n",
       "      <th>lng</th>\n",
       "      <th>h3_index_rep</th>\n",
       "    </tr>\n",
       "  </thead>\n",
       "  <tbody>\n",
       "    <tr>\n",
       "      <th>260</th>\n",
       "      <td>Cannock &amp; District</td>\n",
       "      <td>Penkridge Methodist Church</td>\n",
       "      <td>Penkridge</td>\n",
       "      <td>Staffordshire</td>\n",
       "      <td>ST19 5AH</td>\n",
       "      <td>52.7239</td>\n",
       "      <td>-2.1157</td>\n",
       "      <td>86195c18fffffff</td>\n",
       "    </tr>\n",
       "    <tr>\n",
       "      <th>261</th>\n",
       "      <td>Cannock &amp; District</td>\n",
       "      <td>Portacabin - Sandwich Bar - CLOSED</td>\n",
       "      <td>NaN</td>\n",
       "      <td>NaN</td>\n",
       "      <td>WS11 1JR</td>\n",
       "      <td>52.6909</td>\n",
       "      <td>-2.0295</td>\n",
       "      <td>86195c037ffffff</td>\n",
       "    </tr>\n",
       "    <tr>\n",
       "      <th>262</th>\n",
       "      <td>Cannock &amp; District</td>\n",
       "      <td>Stafford CAB - CLOSED</td>\n",
       "      <td>Stafford</td>\n",
       "      <td>Staffordshire</td>\n",
       "      <td>ST16 2LZ</td>\n",
       "      <td>52.8066</td>\n",
       "      <td>-2.1139</td>\n",
       "      <td>86195c1a7ffffff</td>\n",
       "    </tr>\n",
       "    <tr>\n",
       "      <th>263</th>\n",
       "      <td>Cannock &amp; District</td>\n",
       "      <td>Coniston Hall - Collection/Delivery</td>\n",
       "      <td>Chadsmoor</td>\n",
       "      <td>Staffordshire</td>\n",
       "      <td>WS11 5HG</td>\n",
       "      <td>52.7032</td>\n",
       "      <td>-2.0152</td>\n",
       "      <td>86195c037ffffff</td>\n",
       "    </tr>\n",
       "    <tr>\n",
       "      <th>264</th>\n",
       "      <td>Cardiff</td>\n",
       "      <td>FBC Ely</td>\n",
       "      <td>Cardiff</td>\n",
       "      <td>NaN</td>\n",
       "      <td>CF5 4FN</td>\n",
       "      <td>51.4820</td>\n",
       "      <td>-3.2503</td>\n",
       "      <td>86195ab4fffffff</td>\n",
       "    </tr>\n",
       "    <tr>\n",
       "      <th>265</th>\n",
       "      <td>Cardiff</td>\n",
       "      <td>FBC Central</td>\n",
       "      <td>Cardiff</td>\n",
       "      <td>NaN</td>\n",
       "      <td>CF11 9AD</td>\n",
       "      <td>51.4813</td>\n",
       "      <td>-3.1888</td>\n",
       "      <td>8619586b7ffffff</td>\n",
       "    </tr>\n",
       "    <tr>\n",
       "      <th>266</th>\n",
       "      <td>Cardiff</td>\n",
       "      <td>FBC Cathays</td>\n",
       "      <td>Cardiff</td>\n",
       "      <td>NaN</td>\n",
       "      <td>CF24 4ND</td>\n",
       "      <td>51.4949</td>\n",
       "      <td>-3.1773</td>\n",
       "      <td>86195879fffffff</td>\n",
       "    </tr>\n",
       "  </tbody>\n",
       "</table>\n",
       "</div>"
      ],
      "text/plain": [
       "          Foodbank Name             Distribution Centre Name       Town  \\\n",
       "260  Cannock & District           Penkridge Methodist Church  Penkridge   \n",
       "261  Cannock & District   Portacabin - Sandwich Bar - CLOSED        NaN   \n",
       "262  Cannock & District                Stafford CAB - CLOSED   Stafford   \n",
       "263  Cannock & District  Coniston Hall - Collection/Delivery  Chadsmoor   \n",
       "264             Cardiff                              FBC Ely   Cardiff    \n",
       "265             Cardiff                          FBC Central   Cardiff    \n",
       "266             Cardiff                          FBC Cathays   Cardiff    \n",
       "\n",
       "            County  Postcode      lat     lng     h3_index_rep  \n",
       "260  Staffordshire  ST19 5AH  52.7239 -2.1157  86195c18fffffff  \n",
       "261            NaN  WS11 1JR  52.6909 -2.0295  86195c037ffffff  \n",
       "262  Staffordshire  ST16 2LZ  52.8066 -2.1139  86195c1a7ffffff  \n",
       "263  Staffordshire  WS11 5HG  52.7032 -2.0152  86195c037ffffff  \n",
       "264            NaN   CF5 4FN  51.4820 -3.2503  86195ab4fffffff  \n",
       "265            NaN  CF11 9AD  51.4813 -3.1888  8619586b7ffffff  \n",
       "266            NaN  CF24 4ND  51.4949 -3.1773  86195879fffffff  "
      ]
     },
     "execution_count": 12,
     "metadata": {},
     "output_type": "execute_result"
    }
   ],
   "source": [
    "# df.head(n=15)\n",
    "df.iloc[260:267]"
   ]
  },
  {
   "cell_type": "code",
   "execution_count": 13,
   "metadata": {},
   "outputs": [],
   "source": [
    "# find neighbouring hexagons for a given h3 index\n",
    "\n",
    "# h3.k_ring('8a1909ac1867fff', 1)  # kring gives the index for the ring given in function and the (most likely) 6 surrounding hexagons\n",
    "# h3.hex_ring('861909ac7ffffff', 1) # same as abov but does not include the origin hexagon, thus, hollow ring"
   ]
  },
  {
   "cell_type": "code",
   "execution_count": 14,
   "metadata": {},
   "outputs": [],
   "source": [
    "h3_clusters = dict()\n",
    "\n",
    "for index, row in df.iterrows():\n",
    "    key = row['h3_index_rep']\n",
    "    if key in h3_clusters:\n",
    "        h3_clusters[key][\"count\"] += 1\n",
    "    else:\n",
    "        h3_clusters[key] = {\"count\": 1,\n",
    "                            \"geom\": h3.h3_to_geo_boundary(key)}"
   ]
  },
  {
   "cell_type": "code",
   "execution_count": 15,
   "metadata": {},
   "outputs": [],
   "source": [
    "relevant_clusters = { key:value for (key,value) in h3_clusters.items()}"
   ]
  },
  {
   "cell_type": "code",
   "execution_count": 16,
   "metadata": {},
   "outputs": [],
   "source": [
    "h3_map = create_map(relevant_clusters)"
   ]
  },
  {
   "cell_type": "code",
   "execution_count": 17,
   "metadata": {},
   "outputs": [],
   "source": [
    "show_map(h3_map, \"h3_level:_{}_.html\".format(h3_level))"
   ]
  },
  {
   "cell_type": "code",
   "execution_count": 18,
   "metadata": {},
   "outputs": [],
   "source": [
    "# place all postcodes in the 'Postcodes' column of the dataframe into a list\n",
    "column_as_series = (list(df['Postcode']))\n",
    "\n",
    "# This function checks if the postcode in in the list above and return the h3 index of the postcode given \n",
    "def get_index_from_pc(postcode):\n",
    "    if (postcode.upper()) in column_as_series:\n",
    "        \n",
    "        # if the postcode is a valid one and is in the dataframe then return its equivalent h3 index\n",
    "        the_index = df.loc[(df['Postcode'] == (postcode.upper())), 'h3_index_rep'].iloc[0]  \n",
    "        print('H3 index for the postcode provided is: {}'.format(the_index))\n",
    "        \n",
    "    else:\n",
    "        print('There is no foodbank associated with the postcode you have given')\n",
    "\n"
   ]
  },
  {
   "cell_type": "code",
   "execution_count": 19,
   "metadata": {},
   "outputs": [
    {
     "name": "stdout",
     "output_type": "stream",
     "text": [
      "H3 index for the postcode provided is: 86195879fffffff\n"
     ]
    }
   ],
   "source": [
    "get_index_from_pc('CF24 4ND')"
   ]
  },
  {
   "cell_type": "code",
   "execution_count": 20,
   "metadata": {},
   "outputs": [],
   "source": [
    "# place all indexes in the 'h3_index_rep' column of the dataframe into a list\n",
    "column2_as_series = list(df['h3_index_rep'])\n",
    "\n",
    "# This function checks if the postcode in in the list above and return the h3 index of the postcode given \n",
    "def get_pc_from_index(h3index):\n",
    "    if (h3index.lower()) in column2_as_series:\n",
    "        # if the postcode is a valid one and is in the dataframe then return its equivalent h3 index\n",
    "        the_pc = df.loc[(df['h3_index_rep'] == (h3index.lower())), 'Postcode'].iloc[0]  \n",
    "        print('Postcode for the H3 index provided is: {}'.format(the_pc))\n",
    "    else:\n",
    "        print('There is no foodbank associated with the index you have given')"
   ]
  },
  {
   "cell_type": "code",
   "execution_count": 21,
   "metadata": {},
   "outputs": [
    {
     "name": "stdout",
     "output_type": "stream",
     "text": [
      "There is no foodbank associated with the index you have given\n"
     ]
    }
   ],
   "source": [
    "get_pc_from_index('831958fffffffff')\n"
   ]
  },
  {
   "cell_type": "code",
   "execution_count": null,
   "metadata": {},
   "outputs": [],
   "source": []
  }
 ],
 "metadata": {
  "kernelspec": {
   "display_name": "Python [conda env:myenv]",
   "language": "python",
   "name": "conda-env-myenv-py"
  },
  "language_info": {
   "codemirror_mode": {
    "name": "ipython",
    "version": 3
   },
   "file_extension": ".py",
   "mimetype": "text/x-python",
   "name": "python",
   "nbconvert_exporter": "python",
   "pygments_lexer": "ipython3",
   "version": "3.7.8"
  }
 },
 "nbformat": 4,
 "nbformat_minor": 4
}
